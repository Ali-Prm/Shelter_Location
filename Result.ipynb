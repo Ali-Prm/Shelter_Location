{
 "cells": [
  {
   "cell_type": "code",
   "execution_count": 1,
   "id": "2078f8ee-d308-4a96-8eb5-61f0e2541e05",
   "metadata": {},
   "outputs": [],
   "source": [
    "import numpy as np \n",
    "import pandas as pd \n",
    "import pyomo.environ as pyo\n",
    "import matplotlib.pyplot as plt\n",
    "import random "
   ]
  },
  {
   "cell_type": "code",
   "execution_count": 2,
   "id": "b018e167-98e3-4e31-8a86-11346b33aeef",
   "metadata": {},
   "outputs": [],
   "source": [
    "from src.base_model import base_model \n",
    "from src.trial_error_model import trial_error_model\n",
    "from src.demand_generator import demand_generator \n",
    "from src.network import generate_neighboring_candid\n",
    "from src.network import generate_modified_od "
   ]
  },
  {
   "cell_type": "code",
   "execution_count": 3,
   "id": "7d6e2866-dd4f-4512-8a69-c21129684fe5",
   "metadata": {},
   "outputs": [],
   "source": [
    "# loading the travel time data\n",
    "\n",
    "od = pd.read_csv('data/od.csv').set_index('Unnamed: 0')\n",
    "od.index.name = 'zone'\n",
    "od.columns = od.columns.astype(np.int32)\n",
    "od.index = od.index.astype(np.int32)\n",
    "\n",
    "od = od.iloc[:693,:693]\n",
    "od = od/60\n",
    "\n",
    "od_dict = {}\n",
    "for i in od.index:\n",
    "    for j in od.columns:\n",
    "        od_dict[i,j]= od.loc[i,j]"
   ]
  },
  {
   "cell_type": "code",
   "execution_count": 4,
   "id": "600ae44e-b635-435b-9e5b-bd8c335223e5",
   "metadata": {},
   "outputs": [],
   "source": [
    "# loading the population data (thousand people)\n",
    "\n",
    "data = pd.read_csv('data/pop.csv')\n",
    "data['pop'] = data['pop']/10**3\n",
    "data = data[['zone','pop']] "
   ]
  },
  {
   "cell_type": "code",
   "execution_count": 5,
   "id": "40e08170-7ad0-4de7-b8b3-fd881e499711",
   "metadata": {},
   "outputs": [
    {
     "data": {
      "text/plain": [
       "125"
      ]
     },
     "execution_count": 5,
     "metadata": {},
     "output_type": "execute_result"
    }
   ],
   "source": [
    "# Loading the list of candidate location \n",
    "\n",
    "candid = pd.read_csv('data/candid.csv')\n",
    "candid = candid[candid['Station']==1].zone.tolist()\n",
    "len(candid)"
   ]
  },
  {
   "cell_type": "markdown",
   "id": "c180f396-15ad-41c6-b9bc-20b92f53b9f3",
   "metadata": {},
   "source": [
    "### Demand"
   ]
  },
  {
   "cell_type": "code",
   "execution_count": 6,
   "id": "673bf5a7-269a-42cb-9637-97265d4509d6",
   "metadata": {},
   "outputs": [],
   "source": [
    "# Generating the demand \n",
    "\n",
    "random.seed(1)\n",
    "\n",
    "scenario_num = 15 #number of scenarios \n",
    "initial_num_hit = 10 \n",
    "vicinity_threshold = 8.5 # minutes \n",
    "percentage_affected = 0.3\n",
    "\n",
    "demand = demand_generator(data,\n",
    "                     od,\n",
    "                     scenario_num,\n",
    "                     initial_num_hit,\n",
    "                     vicinity_threshold,\n",
    "                     percentage_affected)"
   ]
  },
  {
   "cell_type": "code",
   "execution_count": 7,
   "id": "b5490498-4a19-491a-b699-19b549c26a49",
   "metadata": {},
   "outputs": [
    {
     "data": {
      "image/png": "[encoded data removed]",
      "text/plain": [
       "<Figure size 792x504 with 2 Axes>"
      ]
     },
     "metadata": {
      "needs_background": "light"
     },
     "output_type": "display_data"
    }
   ],
   "source": [
    "# Visualizing the demand data \n",
    "\n",
    "all_dem = {i:0 for i in demand.keys()}\n",
    "for i in demand.keys():\n",
    "    for j in demand[i].keys():\n",
    "        all_dem[i] += demand[i][j]\n",
    "node_num = {i:len(demand[i].keys()) for i in demand.keys()}\n",
    "\n",
    "demand_vis = pd.DataFrame({'total':all_dem, 'node_number':node_num})\n",
    "\n",
    "fig, axs = plt.subplots(figsize=(11,7), nrows=2, ncols=1)\n",
    "for ax, kind, label, ylab in zip(axs.flat, demand_vis.columns, ['Total Demand', 'Number of Demand Nodes'], ['Thousand People','']):\n",
    "    ax.bar(x=demand_vis.index.tolist(), height=demand_vis[kind])\n",
    "    ax.set_title(f'{label}',  fontsize=18)\n",
    "    ax.set_xlabel('Scenarios', fontsize=14)\n",
    "    ax.set_ylabel(f'{ylab}', fontsize=16)\n",
    "    ax.grid()\n",
    "    ax.set_xticks(demand_vis.index.tolist())\n",
    "\n",
    "plt.tight_layout()    \n",
    "plt.show()"
   ]
  },
  {
   "cell_type": "markdown",
   "id": "013effbd-0a10-4cdd-ba45-afcba01f8a4d",
   "metadata": {},
   "source": [
    "### Sorted Neighboring Candidate (${N_i}$)"
   ]
  },
  {
   "cell_type": "code",
   "execution_count": 8,
   "id": "5c390ded-eb55-400f-953d-63768e7f4ad8",
   "metadata": {},
   "outputs": [],
   "source": [
    "set_length = 10 \n",
    "\n",
    "nearest_candid = generate_neighboring_candid(demand, candid, od, set_length)"
   ]
  },
  {
   "cell_type": "markdown",
   "id": "05f535ff-c55f-4eb8-b817-c634226a0521",
   "metadata": {},
   "source": [
    "### Recalculated Travel Time (${T'_{i,j}}$)"
   ]
  },
  {
   "cell_type": "code",
   "execution_count": 9,
   "id": "abde57ee-e0b4-451d-9961-a49615798544",
   "metadata": {},
   "outputs": [],
   "source": [
    "modified_od = generate_modified_od(demand=demand, candid=candid, nearest_candid=nearest_candid, od=od_dict)"
   ]
  },
  {
   "cell_type": "markdown",
   "id": "249d52b3-960b-4f74-a1c2-c916c9fe4fc8",
   "metadata": {},
   "source": [
    "## Single Run "
   ]
  },
  {
   "cell_type": "markdown",
   "id": "5f1e5361-ba9d-4f2c-9077-57d9b52810e2",
   "metadata": {},
   "source": [
    "### Base Model"
   ]
  },
  {
   "cell_type": "code",
   "execution_count": 10,
   "id": "75fc90f6-c3b1-4051-9852-1a86143e9e04",
   "metadata": {},
   "outputs": [],
   "source": [
    "scenario = 2\n",
    "max_shelter_num = 50\n",
    "shelter_cap = 2\n",
    "gamma = 120\n",
    "\n",
    "\n",
    "m_base = base_model(scenario=scenario, demand=demand, od=od_dict, candidate=candid,\n",
    "                  max_shelter_num=max_shelter_num, shelter_cap=shelter_cap,\n",
    "                  gamma=gamma)"
   ]
  },
  {
   "cell_type": "code",
   "execution_count": 11,
   "id": "50bd4c48-7e95-444a-805d-c516baca4df5",
   "metadata": {},
   "outputs": [
    {
     "name": "stdout",
     "output_type": "stream",
     "text": [
      "\n",
      "Problem: \n",
      "- Name: unknown\n",
      "  Lower bound: 55.71370125\n",
      "  Upper bound: 55.71370125\n",
      "  Number of objectives: 1\n",
      "  Number of constraints: 172\n",
      "  Number of variables: 6489\n",
      "  Number of binary variables: 125\n",
      "  Number of integer variables: 125\n",
      "  Number of nonzeros: 6372\n",
      "  Sense: minimize\n",
      "Solver: \n",
      "- Status: ok\n",
      "  User time: -1.0\n",
      "  System time: 1.98\n",
      "  Wallclock time: 2.36\n",
      "  Termination condition: optimal\n",
      "  Termination message: Model was solved to optimality (subject to tolerances), and an optimal solution is available.\n",
      "  Statistics: \n",
      "    Branch and bound: \n",
      "      Number of bounded subproblems: 48\n",
      "      Number of created subproblems: 48\n",
      "    Black box: \n",
      "      Number of iterations: 1027\n",
      "  Error rc: 0\n",
      "  Time: 2.488722324371338\n",
      "Solution: \n",
      "- number of solutions: 0\n",
      "  number of solutions displayed: 0\n",
      "\n",
      "------------------------------------------\n",
      "Obejctive Function Value:\n"
     ]
    },
    {
     "data": {
      "text/plain": [
       "55.713701259292584"
      ]
     },
     "execution_count": 11,
     "metadata": {},
     "output_type": "execute_result"
    }
   ],
   "source": [
    "solver = pyo.SolverFactory('cbc')\n",
    "\n",
    "res = solver.solve(m_base)\n",
    "\n",
    "print(res)\n",
    "print('------------------------------------------')\n",
    "print('Obejctive Function Value:')\n",
    "pyo.value(m_base.objective)"
   ]
  },
  {
   "cell_type": "markdown",
   "id": "3c74de93-03c2-4716-9c01-400a2340bd2b",
   "metadata": {},
   "source": [
    "### Trial-and-Error Model "
   ]
  },
  {
   "cell_type": "code",
   "execution_count": 12,
   "id": "e51e66dc-86ee-43ef-a248-32c4a32917ea",
   "metadata": {},
   "outputs": [],
   "source": [
    "scenario = 2\n",
    "max_shelter_num = 50\n",
    "shelter_cap = 2\n",
    "gamma = 120\n",
    "\n",
    "\n",
    "m_trial = trial_error_model(scenario=scenario, demand=demand, od=modified_od, candidate=candid, nearest_candid=nearest_candid,\n",
    "                      max_shelter_num=max_shelter_num, shelter_cap=shelter_cap,\n",
    "                      gamma=gamma)"
   ]
  },
  {
   "cell_type": "code",
   "execution_count": 13,
   "id": "4ecdd492-7515-4a89-9dd5-6f4503144b08",
   "metadata": {},
   "outputs": [
    {
     "name": "stdout",
     "output_type": "stream",
     "text": [
      "\n",
      "Problem: \n",
      "- Name: unknown\n",
      "  Lower bound: 73.04733725\n",
      "  Upper bound: 73.04733725\n",
      "  Number of objectives: 1\n",
      "  Number of constraints: 172\n",
      "  Number of variables: 6489\n",
      "  Number of binary variables: 125\n",
      "  Number of integer variables: 125\n",
      "  Number of nonzeros: 6372\n",
      "  Sense: minimize\n",
      "Solver: \n",
      "- Status: ok\n",
      "  User time: -1.0\n",
      "  System time: 0.08\n",
      "  Wallclock time: 0.27\n",
      "  Termination condition: optimal\n",
      "  Termination message: Model was solved to optimality (subject to tolerances), and an optimal solution is available.\n",
      "  Statistics: \n",
      "    Branch and bound: \n",
      "      Number of bounded subproblems: 0\n",
      "      Number of created subproblems: 0\n",
      "    Black box: \n",
      "      Number of iterations: 0\n",
      "  Error rc: 0\n",
      "  Time: 0.41849350929260254\n",
      "Solution: \n",
      "- number of solutions: 0\n",
      "  number of solutions displayed: 0\n",
      "\n",
      "------------------------------------------\n",
      "Obejctive Function Value:\n"
     ]
    },
    {
     "data": {
      "text/plain": [
       "73.0473372467303"
      ]
     },
     "execution_count": 13,
     "metadata": {},
     "output_type": "execute_result"
    }
   ],
   "source": [
    "solver = pyo.SolverFactory('cbc')\n",
    "\n",
    "res = solver.solve(m_trial)\n",
    "\n",
    "print(res)\n",
    "print('------------------------------------------')\n",
    "print('Obejctive Function Value:')\n",
    "pyo.value(m_trial.objective)"
   ]
  },
  {
   "cell_type": "markdown",
   "id": "dc39e2a9-8426-43e2-9164-24c89dcc2582",
   "metadata": {},
   "source": [
    "## Multiple Runs"
   ]
  },
  {
   "cell_type": "code",
   "execution_count": 14,
   "id": "e524c1f1-49b6-44f1-acf5-05300df5fc1c",
   "metadata": {},
   "outputs": [],
   "source": [
    "models = {'trial':[], 'base':[]}\n",
    "\n",
    "for rep in demand.keys():\n",
    "    \n",
    "    model_v1 = base_model(scenario=rep, demand=demand, od=od_dict, candidate=candid,\n",
    "                          max_shelter_num=max_shelter_num, shelter_cap=shelter_cap,\n",
    "                          gamma=gamma)\n",
    "    models['base'].append(model_v1)\n",
    "    \n",
    "    model_v2 = trial_error_model(scenario=rep, demand=demand, od=modified_od, candidate=candid, nearest_candid=nearest_candid,\n",
    "                                 max_shelter_num=max_shelter_num, shelter_cap=shelter_cap,\n",
    "                                 gamma=gamma)\n",
    "    models['trial'].append(model_v2)"
   ]
  },
  {
   "cell_type": "code",
   "execution_count": 15,
   "id": "b6d8453e-0107-4aec-909f-77e752b41c5c",
   "metadata": {},
   "outputs": [],
   "source": [
    "result_models = {'trial':[], 'base':[]}\n",
    "\n",
    "for m in range(len(models['trial'])):\n",
    "    model_t = models['trial'][m]\n",
    "    model_b = models['base'][m]\n",
    "    res_t = solver.solve(model_t)\n",
    "    res_b = solver.solve(model_b)\n",
    "    result_models['trial'].append(pyo.value(model_t.objective))\n",
    "    result_models['base'].append(pyo.value(model_b.objective))"
   ]
  },
  {
   "cell_type": "markdown",
   "id": "9dbe2624-9b8e-4ba5-ae12-0ef9d7078d33",
   "metadata": {},
   "source": [
    "## Comapring the Results"
   ]
  },
  {
   "cell_type": "markdown",
   "id": "45b87bb2-38a1-4303-9dc3-2696502329dd",
   "metadata": {},
   "source": [
    "### 1. Evacuees' Average Time to Find Shelters "
   ]
  },
  {
   "cell_type": "code",
   "execution_count": 16,
   "id": "862a2c5c-839e-4ac0-b20f-5ebeaeda73fd",
   "metadata": {},
   "outputs": [],
   "source": [
    "time_avg = pd.DataFrame.from_dict(result_models)\n",
    "time_avg.columns = ['Trial-Error Model', 'Base Model']\n",
    "time_avg.index = pd.Index(list(demand.keys()))"
   ]
  },
  {
   "cell_type": "code",
   "execution_count": 17,
   "id": "a087f345-8817-4c77-bb9a-0e85ba04be1c",
   "metadata": {},
   "outputs": [
    {
     "data": {
      "image/png": "[encoded data removed]",
      "text/plain": [
       "<Figure size 648x360 with 1 Axes>"
      ]
     },
     "metadata": {
      "needs_background": "light"
     },
     "output_type": "display_data"
    }
   ],
   "source": [
    "time_avg.plot(kind='bar', title='Evacuees Average Travel Time', \n",
    "              legend = ['Trial-Error Model', 'Base Model'],\n",
    "              xlabel='Scenarios', ylabel='Travel Time (min)',\n",
    "              grid=True, figsize=[9,5])\n",
    "\n",
    "plt.show()"
   ]
  },
  {
   "cell_type": "markdown",
   "id": "4733cd90-3dcd-4b9b-aa91-1284831b58d3",
   "metadata": {},
   "source": [
    "### 2. Number of Identical Stations Found"
   ]
  },
  {
   "cell_type": "code",
   "execution_count": 18,
   "id": "3574dd48-5efc-4c47-9397-9ebd5d63d9a6",
   "metadata": {},
   "outputs": [],
   "source": [
    "identical_stations = {k:None for k in range(len(models['trial']))}\n",
    "\n",
    "for sec in models.keys():\n",
    "    for k in range(len(models['trial'])):\n",
    "        model_t = models['trial'][k]\n",
    "        model_b = models['base'][k]\n",
    "        \n",
    "        model_t_stations=[]\n",
    "        model_b_stations=[]\n",
    "        \n",
    "        for j in model_t.J:\n",
    "            if pyo.value(model_t.x[j]) == 1:\n",
    "                model_t_stations.append(j)\n",
    "                \n",
    "        for j in model_b.J:\n",
    "            if pyo.value(model_b.x[j]) == 1:\n",
    "                model_b_stations.append(j)\n",
    "                \n",
    "        \n",
    "        model_t_stations = np.array(model_t_stations)\n",
    "        model_b_stations = np.array(model_b_stations)\n",
    "        \n",
    "        identical_stations[k] = len(np.intersect1d(model_t_stations, model_b_stations))/model_t.max_located"
   ]
  },
  {
   "cell_type": "code",
   "execution_count": 19,
   "id": "954a5c11-2edd-4cda-8911-e16f25d27c33",
   "metadata": {},
   "outputs": [
    {
     "data": {
      "image/png": "[encoded data removed]",
      "text/plain": [
       "<Figure size 720x360 with 1 Axes>"
      ]
     },
     "metadata": {
      "needs_background": "light"
     },
     "output_type": "display_data"
    }
   ],
   "source": [
    "fig, ax = plt.subplots(figsize=(10,5))\n",
    "ax.bar(x=list(demand.keys()), height = identical_stations.values())\n",
    "ax.set_ylabel('Percentage', fontsize=13)\n",
    "ax.set_xlabel('Scenarios', fontsize=13)\n",
    "ax.set_title('Percentage of the Same Located Shelters', fontsize=18) \n",
    "ax.grid()\n",
    "ax.set_xticks(list(demand.keys()))\n",
    "plt.show()"
   ]
  },
  {
   "cell_type": "markdown",
   "id": "bb32e893-4314-444d-96e8-fd2591464caa",
   "metadata": {},
   "source": [
    "###"
   ]
  },
  {
   "cell_type": "markdown",
   "id": "4de3bcbe-48fb-4049-9acf-5542abecdd72",
   "metadata": {},
   "source": [
    "### 3. Percentage of evacuees going to same shelters "
   ]
  },
  {
   "cell_type": "code",
   "execution_count": 20,
   "id": "3197d3d4-a526-457f-8e4c-bb4cb5a4956f",
   "metadata": {},
   "outputs": [],
   "source": [
    "evacuess_same_shelters = {k:0 for k in range(len(models['trial']))}\n",
    "\n",
    "for sec in models.keys():\n",
    "    for k in range(len(models['trial'])):\n",
    "        model_t = models['trial'][k]\n",
    "        model_b = models['base'][k]\n",
    "        \n",
    "        for i in model_t.I:\n",
    "            for j in model_t.J:\n",
    "                \n",
    "                ppl_t = pyo.value(model_t.y[i,j])\n",
    "                ppl_b = pyo.value(model_b.y[i,j])\n",
    "                \n",
    "                evacuess_same_shelters[k] += min(ppl_t, ppl_b)/model_t.all_demand"
   ]
  },
  {
   "cell_type": "code",
   "execution_count": 21,
   "id": "abe0dd27-0f0f-4edc-aca0-c3c5086a12de",
   "metadata": {},
   "outputs": [
    {
     "data": {
      "image/png": "[encoded data removed]",
      "text/plain": [
       "<Figure size 720x360 with 1 Axes>"
      ]
     },
     "metadata": {
      "needs_background": "light"
     },
     "output_type": "display_data"
    }
   ],
   "source": [
    "fig, ax = plt.subplots(figsize=(10,5))\n",
    "\n",
    "ax.bar(x=list(demand.keys()), height = evacuess_same_shelters.values())\n",
    "ax.set_ylabel('Percentage',  fontsize=13)\n",
    "ax.set_xlabel('Scenarios',  fontsize=13)\n",
    "ax.set_title('Percentage of the Evacuees Going to Same Sheletrs', fontsize=18) \n",
    "ax.grid()\n",
    "ax.set_xticks(list(demand.keys()))\n",
    "\n",
    "plt.show()"
   ]
  }
 ],
 "metadata": {
  "kernelspec": {
   "display_name": "Python 3 (ipykernel)",
   "language": "python",
   "name": "python3"
  },
  "language_info": {
   "codemirror_mode": {
    "name": "ipython",
    "version": 3
   },
   "file_extension": ".py",
   "mimetype": "text/x-python",
   "name": "python",
   "nbconvert_exporter": "python",
   "pygments_lexer": "ipython3",
   "version": "3.7.11"
  }
 },
 "nbformat": 4,
 "nbformat_minor": 5
}
