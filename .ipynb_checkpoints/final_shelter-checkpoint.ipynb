{
 "cells": [
  {
   "cell_type": "code",
   "execution_count": 1,
   "id": "bf8ea82e-9940-49b6-aef7-914d98ac1436",
   "metadata": {},
   "outputs": [],
   "source": [
    "import numpy as np \n",
    "import pandas as pd \n",
    "import pyomo.environ as pyo\n",
    "import matplotlib.pyplot as plt\n",
    "import gurobipy\n",
    "import random "
   ]
  },
  {
   "cell_type": "code",
   "execution_count": 2,
   "id": "25a13f25-06da-4477-b6f0-add2520dbc32",
   "metadata": {},
   "outputs": [],
   "source": [
    "tt_98 = pd.read_csv('/mnt/e/Pyomo/Practice/travel_time/assignment_98.csv').set_index('Unnamed: 0')\n",
    "\n",
    "tt_98.index.name = 'zone'\n",
    "\n",
    "tt_98 = tt_98.iloc[:693,:693]\n",
    "\n",
    "tt_98 = tt_98/60"
   ]
  },
  {
   "cell_type": "code",
   "execution_count": 3,
   "id": "f882cd51-b735-4a3b-a98f-ebea753e5317",
   "metadata": {},
   "outputs": [
    {
     "data": {
      "text/plain": [
       "125"
      ]
     },
     "execution_count": 3,
     "metadata": {},
     "output_type": "execute_result"
    }
   ],
   "source": [
    "#stations = pd.read_csv('/mnt/e/Pyomo/Practice/Current_stations/125/config_test.csv')\n",
    "stations = pd.read_csv('/mnt/e/Pyomo/Practice/Current_stations/125/config_1.csv')\n",
    "# current stations zone number\n",
    "\n",
    "\n",
    "current_stations = stations[stations['Station']==1].zone.tolist()\n",
    "len(current_stations)"
   ]
  },
  {
   "cell_type": "code",
   "execution_count": 4,
   "id": "1ade11d4-5033-41a1-88bc-0edbbea5a671",
   "metadata": {},
   "outputs": [
    {
     "data": {
      "text/plain": [
       "125"
      ]
     },
     "execution_count": 4,
     "metadata": {},
     "output_type": "execute_result"
    }
   ],
   "source": [
    "len(current_stations)"
   ]
  },
  {
   "cell_type": "code",
   "execution_count": 5,
   "id": "5650fee9-3ef7-456b-be80-31fb4439cafb",
   "metadata": {},
   "outputs": [],
   "source": [
    "#current_stations = list(range(1,700))"
   ]
  },
  {
   "cell_type": "code",
   "execution_count": 6,
   "id": "b076a106-e277-4c00-9432-6e85393e20e2",
   "metadata": {},
   "outputs": [],
   "source": [
    "data = pd.read_csv('/mnt/e/Pyomo/Practice/shelter/dem_98.csv')\n",
    "data['pop'] = data['pop']/10**3\n",
    "data = data[['zone','pop']] \n",
    "data['zone'] = data['zone'].astype(np.str_)"
   ]
  },
  {
   "cell_type": "code",
   "execution_count": 7,
   "id": "9746f959-e9fc-4697-a386-a0efac0d16f4",
   "metadata": {},
   "outputs": [],
   "source": [
    "data = data.iloc[range(693)]"
   ]
  },
  {
   "cell_type": "code",
   "execution_count": 98,
   "id": "2796aede-0fdf-4a5a-b304-1bf10b41df55",
   "metadata": {},
   "outputs": [],
   "source": [
    "random.seed(1)\n",
    "\n",
    "sec_num = 16\n",
    "\n",
    "scenarios = {i:[] for i in range(1,sec_num)}\n",
    "\n",
    "for i in scenarios.keys():\n",
    "\n",
    "    locs = random.sample(range(1,693), 10)\n",
    "    for loc in locs:\n",
    "        scenarios[i].append(str(loc))\n",
    "        neigbors = tt_98[tt_98[str(loc)]<8.5].index.tolist()\n",
    "        for j in neigbors:\n",
    "            scenarios[i].append(str(j))\n",
    "\n",
    "\n",
    "    \n",
    "            \n",
    "demand_scenarios = {i:None for i in range(1,sec_num)}\n",
    "for i in demand_scenarios.keys():\n",
    "    d = data[data['zone'].isin(scenarios[i])]\n",
    "    demand_scenarios[i] = dict(zip(d['zone'], d['pop']*0.3))\n",
    "            \n",
    "demand = {i:0 for i in range(1,sec_num)}\n",
    "for i in demand_scenarios.keys():\n",
    "    demand[i] = sum(demand_scenarios[i].values())\n",
    "        \n",
    "num = {i:0 for i in range(1,sec_num)}\n",
    "for i in scenarios.keys():\n",
    "    num[i] = len(scenarios[i])\n",
    "    \n",
    "    \n",
    "for i in scenarios.keys():\n",
    "    scenarios[i] = list(map(int,scenarios[i]))\n",
    "    scenarios[i].sort()\n",
    "\n",
    "demand = {i:{} for i in range(1,sec_num)}\n",
    "for i in demand_scenarios.keys():\n",
    "    for key, item in demand_scenarios[i].items():\n",
    "        demand[i][int(key)]=item\n",
    "\n",
    "demand_node = {i:[] for i in range(1,sec_num)}\n",
    "for i in demand.keys():\n",
    "    for j in demand[i].keys():\n",
    "        demand_node[i].append(j)\n",
    "        \n",
    "nearest_candid = {i: {j:[] for j in demand_node[i]} for i in range(1,sec_num)}\n",
    "for scenario in demand_node.keys():\n",
    "    for i in demand_node[scenario]:\n",
    "        for j in tt_98[str(i)].sort_values().index.to_list():\n",
    "            if j in current_stations:\n",
    "                if j not in demand_node[scenario]:\n",
    "                    nearest_candid[scenario][i].append(j)\n",
    "                    break\n",
    "                    \n",
    "demands = {}\n",
    "for i in demand.keys():\n",
    "    for j in demand[i].keys():\n",
    "        demands[i,j] =  demand[i][j]"
   ]
  },
  {
   "cell_type": "code",
   "execution_count": 99,
   "id": "497f366c-f251-4729-8be1-cfcf4ff3433e",
   "metadata": {},
   "outputs": [],
   "source": [
    "all_dem = {i:0 for i in demand.keys()}\n",
    "for i in demand.keys():\n",
    "    for j in demand[i].keys():\n",
    "        all_dem[i] += demand[i][j]"
   ]
  },
  {
   "cell_type": "code",
   "execution_count": 100,
   "id": "3ecbbf6b-3462-4138-9be8-3f63b27bf6e7",
   "metadata": {},
   "outputs": [
    {
     "data": {
      "text/plain": [
       "{1: 111.4575,\n",
       " 2: 165.7182,\n",
       " 3: 169.6142999999999,\n",
       " 4: 151.58400000000003,\n",
       " 5: 120.68730000000001,\n",
       " 6: 160.26719999999997,\n",
       " 7: 148.16489999999996,\n",
       " 8: 218.9754,\n",
       " 9: 166.8837,\n",
       " 10: 231.2676,\n",
       " 11: 113.67990000000002,\n",
       " 12: 102.27300000000004,\n",
       " 13: 154.54439999999994,\n",
       " 14: 172.5324,\n",
       " 15: 167.82989999999995}"
      ]
     },
     "execution_count": 100,
     "metadata": {},
     "output_type": "execute_result"
    }
   ],
   "source": [
    "all_dem"
   ]
  },
  {
   "cell_type": "code",
   "execution_count": 101,
   "id": "e2744a53-afe0-4730-bac9-4b0b6ab5129b",
   "metadata": {},
   "outputs": [
    {
     "name": "stdout",
     "output_type": "stream",
     "text": [
      "1 27\n",
      "2 54\n",
      "3 45\n",
      "4 37\n",
      "5 27\n",
      "6 48\n",
      "7 33\n",
      "8 56\n",
      "9 42\n",
      "10 49\n",
      "11 28\n",
      "12 38\n",
      "13 43\n",
      "14 40\n",
      "15 36\n"
     ]
    }
   ],
   "source": [
    "for i in demand_node.keys():\n",
    "    print(i, len(demand_node[i]))"
   ]
  },
  {
   "cell_type": "code",
   "execution_count": 102,
   "id": "3b8a897c-3b2f-4003-b555-e8c25e5b7c4e",
   "metadata": {},
   "outputs": [],
   "source": [
    "mst_nearest_candid = {key:{i:[] for i in current_stations} for key in range(1,sec_num) }\n",
    "\n",
    "for scenario in mst_nearest_candid.keys():  #go scenario\n",
    "    for i in current_stations: #go through every candidate \n",
    "        for j in tt_98[str(i)].sort_values().index.to_list()[1:]:\n",
    "            if j in current_stations:\n",
    "                if j not in demand_node[scenario]:\n",
    "                    mst_nearest_candid[scenario][i].append(j)\n",
    "            if len(mst_nearest_candid[scenario][i]) == 10:\n",
    "                break\n"
   ]
  },
  {
   "cell_type": "code",
   "execution_count": 103,
   "id": "2322a697-44df-429e-b086-2e7568bc3e44",
   "metadata": {},
   "outputs": [],
   "source": [
    "nearest_candid = {i: {j:[] for j in demand_node[i]} for i in range(1,sec_num)}\n",
    "\n",
    "for scenario in demand_node.keys(): #GO THROUGH EVERY SCEANRIO\n",
    "    \n",
    "    for i in demand_node[scenario]: #GO THROUGH EVERY DEAMND NODES\n",
    "        \n",
    "        # FIND THE FIRST CHOICE FOR PEOPLE AT DEMAND NODE i\n",
    "        for j in tt_98[str(i)].sort_values().index.to_list():\n",
    "            if j in current_stations:\n",
    "                if j not in demand_node[scenario]:\n",
    "                    first_station = j\n",
    "                    nearest_candid[scenario][i].append(j)\n",
    "                    break \n",
    "                    \n",
    "        while len(nearest_candid[scenario][i]) <= 10:\n",
    "            #print(scenario, i, first_station)\n",
    "            for z in mst_nearest_candid[scenario][first_station]:\n",
    "                if z not in nearest_candid[scenario][i]:\n",
    "                    nearest_candid[scenario][i].append(z)\n",
    "                    first_station = z\n",
    "            \n"
   ]
  },
  {
   "cell_type": "code",
   "execution_count": 104,
   "id": "ee2f09df-5cc3-4119-b2ee-f21f43d318ed",
   "metadata": {},
   "outputs": [],
   "source": [
    "tt = tt_98.copy()\n",
    "tt.columns = tt_98.columns.astype(np.int64)\n",
    "od = {}\n",
    "for i in tt.index:\n",
    "    for j in tt.columns:\n",
    "        od[i,j]= tt.loc[i,j]"
   ]
  },
  {
   "cell_type": "code",
   "execution_count": 105,
   "id": "b1e1e7bc-fc29-4c26-89aa-915d70965569",
   "metadata": {},
   "outputs": [],
   "source": [
    "travel_time = {i: {j:[] for j in demand_node[i]} for i in range(1,sec_num)}\n",
    "\n",
    "for scenario in nearest_candid.keys(): #iteratre over sceanrios\n",
    "    for node in nearest_candid[scenario].keys(): # iterate over every demand node in a given scenario\n",
    "        \n",
    "        candid_list = nearest_candid[scenario][node]\n",
    "        \n",
    "        for i in range(len(candid_list)):\n",
    "            if i == 0:\n",
    "                travel_time[scenario][node].append(od[(node,candid_list[0])])\n",
    "                \n",
    "            else:\n",
    "                link_tt = od[(candid_list[i], candid_list[i-1])]\n",
    "                new_tt = link_tt + travel_time[scenario][node][i-1]\n",
    "                travel_time[scenario][node].append(new_tt)\n",
    "                \n",
    "        \n",
    "tt = {i: {} for i in range(1,sec_num)}\n",
    "\n",
    "for scenario in range(1,sec_num):\n",
    "     for node in nearest_candid[scenario].keys(): # iterate over every demand node in a given scenario\n",
    "            for i in range(len(nearest_candid[scenario][node])):\n",
    "                tt[scenario][(node,nearest_candid[scenario][node][i])] = travel_time[scenario][node][i]\n",
    "\n",
    "for i in current_stations:\n",
    "    \n",
    "    for scenario in range(1,sec_num):\n",
    "        for node in nearest_candid[scenario].keys():\n",
    "            if i not in nearest_candid[scenario][node]:\n",
    "                tt[scenario][(node,i)] = 10000"
   ]
  },
  {
   "cell_type": "markdown",
   "id": "e0bd583b-9a78-4738-9f7d-1aa840f16dfd",
   "metadata": {},
   "source": [
    "## Trial-and-Error Behvaior Model"
   ]
  },
  {
   "cell_type": "code",
   "execution_count": 106,
   "id": "0eed5071-dfb6-4fae-98a6-5650ae6daa13",
   "metadata": {},
   "outputs": [],
   "source": [
    "def base_model_v2(scenario, demand, nearest_candid, tt, current_stations, sec_num):\n",
    "    \n",
    "    \n",
    "    \n",
    "    \n",
    "    demand_node = {i:[] for i in range(1,sec_num)}\n",
    "    for i in demand.keys():\n",
    "        for j in demand[i].keys():\n",
    "            demand_node[i].append(j)\n",
    "            \n",
    "    \n",
    "    safe_nodes = {}\n",
    "    for node in current_stations:\n",
    "        if node in demand[scenario].keys():\n",
    "            safe_nodes[node] = 0\n",
    "        else:\n",
    "            safe_nodes[node] = 1\n",
    "            \n",
    "    \n",
    "    tt_nodes = []\n",
    "    for key in tt[scenario].keys():\n",
    "        tt_nodes.append(key)\n",
    "        \n",
    "    all_demand = 0\n",
    "    for key in demand[scenario].keys():\n",
    "        all_demand += demand[scenario][key]\n",
    "    \n",
    "    \n",
    "    model = pyo.ConcreteModel('base')\n",
    "    \n",
    "    \n",
    "    ######## 1. Sets \n",
    "    # demand nodes \n",
    "    model.I = pyo.Set(initialize = demand_node[scenario])\n",
    "\n",
    "    ## current station location\n",
    "    model.J = pyo.Set(initialize = current_stations)\n",
    "    \n",
    "    ## priority list for demand nodes\n",
    "    model.Ni = pyo.Set(model.I, initialize = nearest_candid[scenario])\n",
    "    \n",
    "    ######## 2. Decision variables \n",
    "\n",
    "    # shelter locations\n",
    "    model.x = pyo.Var(model.J, within=pyo.Binary)\n",
    "\n",
    "    # demand allocated from each node to each shelter \n",
    "    model.y = pyo.Var(model.I, model.J, within=pyo.NonNegativeReals)\n",
    "\n",
    "    # unresponded demand from each node \n",
    "    model.z = pyo.Var(model.I, within=pyo.NonNegativeReals)\n",
    "    \n",
    "    \n",
    "    \n",
    "    ###### 3. Parameters \n",
    "\n",
    "    # maximum number of shelters to be located \n",
    "    model.max_located = pyo.Param(initialize=50)\n",
    "\n",
    "    # capacity of shelters \n",
    "    model.capacity = pyo.Param(initialize=2)\n",
    "\n",
    "    # demand in each scenario\n",
    "    model.demand = pyo.Param(model.I, initialize=demand[scenario])\n",
    "\n",
    "    # safe nodes in each scenario\n",
    "    model.safe_node = pyo.Param(model.J, initialize=safe_nodes)\n",
    "\n",
    "    # travel time \n",
    "    model.tt = pyo.Param(model.I, model.J, initialize= tt[scenario])\n",
    "\n",
    "    #  relative importance of travel time in comparison to the number of people not accommodated in shelters.\n",
    "    model.gamma = pyo.Param(initialize=120)\n",
    "    \n",
    "    model.all_demand = pyo.Param(initialize=all_demand)\n",
    "    \n",
    "    \n",
    "    \n",
    "    ##### 4. Constraints \n",
    "\n",
    "    # maximum number of shelters to be located \n",
    "    model.cons_max_loc_shelters = pyo.Constraint(expr = sum(model.x[j] for j in model.J) == model.max_located)\n",
    "\n",
    "    # opening shelters only at safe locations\n",
    "    def safe_shelter(mdl, j):\n",
    "        return mdl.x[j] <= mdl.safe_node[j]\n",
    "    model.cons_safe_shelters = pyo.Constraint(model.J, rule=safe_shelter)\n",
    "\n",
    "    # the total number of people accommodated in the shelter at site j cannot exceed its capacity\n",
    "    def accom_shelter(mdl, j):\n",
    "        return sum(mdl.y[i,j] for i in mdl.I) <= mdl.capacity * mdl.x[j]\n",
    "    model.cons_accom_shelters = pyo.Constraint(model.J, rule=accom_shelter)\n",
    "\n",
    "    # the number of evacuees from origin i who seek shelters in scenario l but cannot be accommodated.\n",
    "    def not_accom(mdl, i):\n",
    "        return sum(mdl.y[i,j] for j in mdl.J) + mdl.z[i] == mdl.demand[i]\n",
    "    model.cons_not_accom = pyo.Constraint(model.I, rule=not_accom)\n",
    "    \n",
    "            \n",
    "\n",
    "    \n",
    "    ###### 5. Object function \n",
    "    def obj_rule(mdl):\n",
    "        return (sum(mdl.z[i] for i in mdl.I)*mdl.gamma + sum(mdl.y[i,j]*mdl.tt[i,j] for i in mdl.I for j in mdl.J))/mdl.all_demand\n",
    "    model.objective = pyo.Objective(rule=obj_rule, sense=pyo.minimize)\n",
    "    \n",
    "    return model\n",
    "    "
   ]
  },
  {
   "cell_type": "code",
   "execution_count": 107,
   "id": "051d1710-f4c6-4937-bbc0-d358c2298006",
   "metadata": {},
   "outputs": [],
   "source": [
    "model_v2 = base_model_v2(scenario=5, demand=demand,\n",
    "                     nearest_candid=nearest_candid, tt=tt,\n",
    "                     current_stations=current_stations,\n",
    "                        sec_num = sec_num)"
   ]
  },
  {
   "cell_type": "code",
   "execution_count": 108,
   "id": "cf97bee0-0e10-46ba-80d1-43d3c8d0e74d",
   "metadata": {},
   "outputs": [
    {
     "name": "stdout",
     "output_type": "stream",
     "text": [
      "\n",
      "Problem: \n",
      "- Name: unknown\n",
      "  Lower bound: 64.50766279\n",
      "  Upper bound: 64.50766279\n",
      "  Number of objectives: 1\n",
      "  Number of constraints: 147\n",
      "  Number of variables: 3359\n",
      "  Number of binary variables: 125\n",
      "  Number of integer variables: 125\n",
      "  Number of nonzeros: 3240\n",
      "  Sense: minimize\n",
      "Solver: \n",
      "- Status: ok\n",
      "  User time: -1.0\n",
      "  System time: 0.08\n",
      "  Wallclock time: 0.18\n",
      "  Termination condition: optimal\n",
      "  Termination message: Model was solved to optimality (subject to tolerances), and an optimal solution is available.\n",
      "  Statistics: \n",
      "    Branch and bound: \n",
      "      Number of bounded subproblems: 0\n",
      "      Number of created subproblems: 0\n",
      "    Black box: \n",
      "      Number of iterations: 0\n",
      "  Error rc: 0\n",
      "  Time: 0.3873097896575928\n",
      "Solution: \n",
      "- number of solutions: 0\n",
      "  number of solutions displayed: 0\n",
      "\n"
     ]
    }
   ],
   "source": [
    "solver = pyo.SolverFactory('cbc')\n",
    "\n",
    "res = solver.solve(model_v2)\n",
    "\n",
    "print(res)"
   ]
  },
  {
   "cell_type": "code",
   "execution_count": 109,
   "id": "b0d83046-4c39-406b-ac3b-d1f18183d3be",
   "metadata": {},
   "outputs": [
    {
     "data": {
      "text/plain": [
       "64.50766279288459"
      ]
     },
     "execution_count": 109,
     "metadata": {},
     "output_type": "execute_result"
    }
   ],
   "source": [
    "pyo.value(model_v2.objective)"
   ]
  },
  {
   "cell_type": "code",
   "execution_count": 110,
   "id": "bb3635ca-53d0-455f-b42e-959ee8428927",
   "metadata": {},
   "outputs": [],
   "source": [
    "#nearest_candid[1].keys()"
   ]
  },
  {
   "cell_type": "code",
   "execution_count": 111,
   "id": "cea49f0d-b31d-4d9c-8d32-a5928178cd10",
   "metadata": {},
   "outputs": [],
   "source": [
    "#nearest_candid[1][411], demand[1][411]"
   ]
  },
  {
   "cell_type": "code",
   "execution_count": 112,
   "id": "16a8ec20-3b70-4452-a78f-92c0014a41bf",
   "metadata": {},
   "outputs": [],
   "source": [
    "# ##for j in model_1.J:\n",
    "#     print(j, pyo.value(model_1.y[(411,j)]))"
   ]
  },
  {
   "cell_type": "markdown",
   "id": "4eb1e408-aea2-4b26-a055-2c828138cb1f",
   "metadata": {},
   "source": [
    "## Plain Model "
   ]
  },
  {
   "cell_type": "code",
   "execution_count": 113,
   "id": "38185266-5011-4f02-8144-3e93dc089101",
   "metadata": {},
   "outputs": [],
   "source": [
    "def base_model_v1(scenario, demand, od, current_stations, sec_num):\n",
    "    \n",
    "\n",
    "    safe_nodes = {}\n",
    "    for node in current_stations:\n",
    "        if node in demand[scenario].keys():\n",
    "            safe_nodes[node] = 0\n",
    "        else:\n",
    "            safe_nodes[node] = 1\n",
    "            \n",
    "        \n",
    "    demand_node = {i:[] for i in range(1,sec_num)}\n",
    "    for i in demand.keys():\n",
    "        for j in demand[i].keys():\n",
    "            demand_node[i].append(j)\n",
    "\n",
    "            \n",
    "    od_modified = {(x,y):od[x,y] for y in current_stations for x in demand_node[scenario]}\n",
    "    \n",
    "    all_demand = 0\n",
    "    for key in demand[scenario].keys():\n",
    "        all_demand += demand[scenario][key]\n",
    "    \n",
    "    model = pyo.ConcreteModel('base')\n",
    "    \n",
    "    \n",
    "    ######## 1. Sets \n",
    "    # demand nodes \n",
    "    model.I = pyo.Set(initialize = demand_node[scenario])\n",
    "\n",
    "    ## current station location\n",
    "    model.J = pyo.Set(initialize = current_stations)\n",
    "    \n",
    "\n",
    "    \n",
    "    ######## 2. Decision variables \n",
    "\n",
    "    # shelter locations\n",
    "    model.x = pyo.Var(model.J, within=pyo.Binary)\n",
    "\n",
    "    # demand allocated from each node to each shelter \n",
    "    model.y = pyo.Var(model.I, model.J, within=pyo.NonNegativeReals)\n",
    "\n",
    "    # unresponded demand from each node \n",
    "    model.z = pyo.Var(model.I, within=pyo.NonNegativeReals)\n",
    "    \n",
    "    \n",
    "    \n",
    "    ###### 3. Parameters \n",
    "\n",
    "    # maximum number of shelters to be located \n",
    "    model.max_located = pyo.Param(initialize=50)\n",
    "\n",
    "    # capacity of shelters \n",
    "    model.capacity = pyo.Param(initialize=2)\n",
    "\n",
    "    # demand in each scenario\n",
    "    model.demand = pyo.Param(model.I, initialize=demand[scenario])\n",
    "\n",
    "    # safe nodes in each scenario\n",
    "    model.safe_node = pyo.Param(model.J, initialize=safe_nodes)\n",
    "\n",
    "    # travel time \n",
    "    model.tt = pyo.Param(model.I, model.J, initialize=od_modified)\n",
    "\n",
    "    #  relative importance of travel time in comparison to the number of people not accommodated in shelters.\n",
    "    model.gamma = pyo.Param(initialize=120)\n",
    "    \n",
    "    model.all_demand = pyo.Param(initialize = all_demand)\n",
    "    \n",
    "    \n",
    "    \n",
    "    \n",
    "    ##### 4. Constraints \n",
    "\n",
    "    # maximum number of shelters to be located \n",
    "    model.cons_max_loc_shelters = pyo.Constraint(expr = sum(model.x[j] for j in model.J) == model.max_located)\n",
    "\n",
    "    # opening shelters only at safe locations\n",
    "    def safe_shelter(mdl, j):\n",
    "        return mdl.x[j] <= mdl.safe_node[j]\n",
    "    model.cons_safe_shelters = pyo.Constraint(model.J, rule=safe_shelter)\n",
    "\n",
    "    # the total number of people accommodated in the shelter at site j cannot exceed its capacity\n",
    "    def accom_shelter(mdl, j):\n",
    "        return sum(mdl.y[i,j] for i in mdl.I) <= mdl.capacity * mdl.x[j]\n",
    "    model.cons_accom_shelters = pyo.Constraint(model.J, rule=accom_shelter)\n",
    "\n",
    "    # the number of evacuees from origin i who seek shelters in scenario l but cannot be accommodated.\n",
    "    def not_accom(mdl, i):\n",
    "        return sum(mdl.y[i,j] for j in mdl.J) + mdl.z[i] == mdl.demand[i]\n",
    "    model.cons_not_accom = pyo.Constraint(model.I, rule=not_accom)\n",
    "    \n",
    "            \n",
    "\n",
    "    \n",
    "    ###### 5. Object function \n",
    "    def obj_rule(mdl):\n",
    "        return (sum(mdl.z[i] for i in mdl.I)*mdl.gamma + sum(mdl.y[i,j]*mdl.tt[i,j] for i in mdl.I for j in mdl.J))/mdl.all_demand\n",
    "    model.objective = pyo.Objective(rule=obj_rule, sense=pyo.minimize)\n",
    "    \n",
    "    return model\n",
    "    "
   ]
  },
  {
   "cell_type": "code",
   "execution_count": 114,
   "id": "216c390f-b320-437c-a4d7-105387befe17",
   "metadata": {},
   "outputs": [],
   "source": [
    "model_v1 = base_model_v1(scenario=5, demand=demand,\n",
    "              od=od, current_stations=current_stations, sec_num=sec_num)"
   ]
  },
  {
   "cell_type": "code",
   "execution_count": 115,
   "id": "1e9c7a60-0db6-4652-aa72-1e30b9376641",
   "metadata": {},
   "outputs": [
    {
     "name": "stdout",
     "output_type": "stream",
     "text": [
      "\n",
      "Problem: \n",
      "- Name: unknown\n",
      "  Lower bound: 32.66418189\n",
      "  Upper bound: 32.66418189\n",
      "  Number of objectives: 1\n",
      "  Number of constraints: 147\n",
      "  Number of variables: 3359\n",
      "  Number of binary variables: 125\n",
      "  Number of integer variables: 125\n",
      "  Number of nonzeros: 3240\n",
      "  Sense: minimize\n",
      "Solver: \n",
      "- Status: ok\n",
      "  User time: -1.0\n",
      "  System time: 0.44\n",
      "  Wallclock time: 0.46\n",
      "  Termination condition: optimal\n",
      "  Termination message: Model was solved to optimality (subject to tolerances), and an optimal solution is available.\n",
      "  Statistics: \n",
      "    Branch and bound: \n",
      "      Number of bounded subproblems: 0\n",
      "      Number of created subproblems: 0\n",
      "    Black box: \n",
      "      Number of iterations: 83\n",
      "  Error rc: 0\n",
      "  Time: 0.5925588607788086\n",
      "Solution: \n",
      "- number of solutions: 0\n",
      "  number of solutions displayed: 0\n",
      "\n"
     ]
    }
   ],
   "source": [
    "solver = pyo.SolverFactory('cbc')\n",
    "\n",
    "res = solver.solve(model_v1)\n",
    "\n",
    "print(res)"
   ]
  },
  {
   "cell_type": "code",
   "execution_count": 116,
   "id": "91831970-97ff-4641-a0d8-d39b895ddc47",
   "metadata": {},
   "outputs": [
    {
     "data": {
      "text/plain": [
       "32.664181885104725"
      ]
     },
     "execution_count": 116,
     "metadata": {},
     "output_type": "execute_result"
    }
   ],
   "source": [
    "pyo.value(model_v1.objective)"
   ]
  },
  {
   "cell_type": "code",
   "execution_count": 117,
   "id": "ad1374bd-e9df-4d31-8abe-4c1a5ae2f237",
   "metadata": {},
   "outputs": [],
   "source": [
    "# for i in model_v1.I:\n",
    "#     for j in model_v1.J:\n",
    "#         print(\"I:\",i,model_v1.demand[i], 'J:',j, pyo.value(model_v1.y[i,j]), )"
   ]
  },
  {
   "cell_type": "code",
   "execution_count": 118,
   "id": "e6f80c9d-2300-4f00-a4f1-0d1e249dd7af",
   "metadata": {},
   "outputs": [],
   "source": [
    "models = {'trial':[], 'base':[]}\n",
    "\n",
    "for rep in range(1,sec_num):\n",
    "    \n",
    "    model_v2 = base_model_v2(scenario=rep, demand=demand,\n",
    "                     nearest_candid=nearest_candid, tt=tt,\n",
    "                     current_stations=current_stations,\n",
    "                        sec_num = sec_num)\n",
    "    models['trial'].append(model_v2)\n",
    "    \n",
    "    model_v1 = base_model_v1(scenario=rep, demand=demand,\n",
    "              od=od, current_stations=current_stations, sec_num=sec_num)\n",
    "    models['base'].append(model_v1)"
   ]
  },
  {
   "cell_type": "code",
   "execution_count": 119,
   "id": "87fd9da0-dbaf-401c-bbf9-22fe2d03b376",
   "metadata": {},
   "outputs": [],
   "source": [
    "solver = pyo.SolverFactory('cbc')"
   ]
  },
  {
   "cell_type": "code",
   "execution_count": 120,
   "id": "f87f5823-484f-4e58-a88e-af98a160637e",
   "metadata": {},
   "outputs": [],
   "source": [
    "result_models = {'trial':[], 'base':[]}\n",
    "\n",
    "for m in range(len(models['trial'])):\n",
    "    model_t = models['trial'][m]\n",
    "    model_b = models['base'][m]\n",
    "    res_t = solver.solve(model_t)\n",
    "    res_b = solver.solve(model_b)\n",
    "    result_models['trial'].append(pyo.value(model_t.objective))\n",
    "    result_models['base'].append(pyo.value(model_b.objective))\n",
    "               \n",
    "               "
   ]
  },
  {
   "cell_type": "markdown",
   "id": "2dc93a9a-60d2-46ab-af75-60ca5cfdcb44",
   "metadata": {},
   "source": [
    "### Comparing Evacuees' Average Time to Find Shelters "
   ]
  },
  {
   "cell_type": "code",
   "execution_count": 121,
   "id": "4273c74b-5f35-483f-ad80-0cc3d6e310d9",
   "metadata": {},
   "outputs": [],
   "source": [
    "time_avg = pd.DataFrame.from_dict(result_models)"
   ]
  },
  {
   "cell_type": "code",
   "execution_count": 124,
   "id": "24d4258e-1f73-4631-a7dc-0b2b76d3cc32",
   "metadata": {},
   "outputs": [],
   "source": [
    "time_avg.columns = ['Trial-Error Model', 'Base Model']\n",
    "time_avg.index = pd.Index(np.arange(1,sec_num))"
   ]
  },
  {
   "cell_type": "code",
   "execution_count": 165,
   "id": "350a9f2e-4017-4f1f-bc7a-e52ad86e1bea",
   "metadata": {},
   "outputs": [
    {
     "data": {
      "image/png": "[encoded data removed]",
      "text/plain": [
       "<Figure size 648x360 with 1 Axes>"
      ]
     },
     "metadata": {
      "needs_background": "light"
     },
     "output_type": "display_data"
    }
   ],
   "source": [
    "time_avg.plot(kind='bar', title='Evacuees Average Travel Time', \n",
    "              legend = ['Trial-Error Model', 'Base Model'],\n",
    "              xlabel='Scenarios', ylabel='Travel Time (min)',\n",
    "              grid=True, figsize=[9,5])\n",
    "\n",
    "plt.show()"
   ]
  },
  {
   "cell_type": "code",
   "execution_count": null,
   "id": "0613560a-ffdd-4865-b650-e26bfc863035",
   "metadata": {},
   "outputs": [],
   "source": []
  },
  {
   "cell_type": "markdown",
   "id": "7444bc57-dde3-45d7-807b-fa119c9fe24d",
   "metadata": {},
   "source": [
    "### Comparing Number of Identical Stations Found"
   ]
  },
  {
   "cell_type": "code",
   "execution_count": 126,
   "id": "d9b18ad8-99f6-456b-a3ae-d4137c5a507f",
   "metadata": {},
   "outputs": [],
   "source": [
    "identical_stations = {k:None for k in range(len(models['trial']))}\n",
    "\n",
    "for sec in models.keys():\n",
    "    for k in range(len(models['trial'])):\n",
    "        model_t = models['trial'][k]\n",
    "        model_b = models['base'][k]\n",
    "        \n",
    "        model_t_stations=[]\n",
    "        model_b_stations=[]\n",
    "        \n",
    "        for j in model_t.J:\n",
    "            if pyo.value(model_t.x[j]) == 1:\n",
    "                model_t_stations.append(j)\n",
    "                \n",
    "        for j in model_b.J:\n",
    "            if pyo.value(model_b.x[j]) == 1:\n",
    "                model_b_stations.append(j)\n",
    "                \n",
    "        \n",
    "        model_t_stations = np.array(model_t_stations)\n",
    "        model_b_stations = np.array(model_b_stations)\n",
    "        \n",
    "        identical_stations[k] = len(np.intersect1d(model_t_stations, model_b_stations))/model_t.max_located"
   ]
  },
  {
   "cell_type": "code",
   "execution_count": 127,
   "id": "89097962-2a64-42c7-970f-d5dd64902a92",
   "metadata": {},
   "outputs": [
    {
     "data": {
      "text/plain": [
       "{0: 0.78,\n",
       " 1: 0.82,\n",
       " 2: 0.6,\n",
       " 3: 0.7,\n",
       " 4: 0.72,\n",
       " 5: 0.84,\n",
       " 6: 0.7,\n",
       " 7: 0.7,\n",
       " 8: 0.72,\n",
       " 9: 0.72,\n",
       " 10: 0.64,\n",
       " 11: 0.7,\n",
       " 12: 0.64,\n",
       " 13: 0.68,\n",
       " 14: 0.78}"
      ]
     },
     "execution_count": 127,
     "metadata": {},
     "output_type": "execute_result"
    }
   ],
   "source": [
    "identical_stations"
   ]
  },
  {
   "cell_type": "markdown",
   "id": "b9c7bd70-8edc-440e-badf-c5994c564915",
   "metadata": {},
   "source": [
    "### Percentage of people finding same shelters from each node "
   ]
  },
  {
   "cell_type": "code",
   "execution_count": 128,
   "id": "47539f06-9e41-4eaa-b7d0-f3355468dae4",
   "metadata": {},
   "outputs": [],
   "source": [
    "evacuess_same_shelters = {k:0 for k in range(len(models['trial']))}\n",
    "\n",
    "for sec in models.keys():\n",
    "    for k in range(len(models['trial'])):\n",
    "        model_t = models['trial'][k]\n",
    "        model_b = models['base'][k]\n",
    "        \n",
    "        for i in model_t.I:\n",
    "            for j in model_t.J:\n",
    "                \n",
    "                ppl_t = pyo.value(model_t.y[i,j])\n",
    "                ppl_b = pyo.value(model_b.y[i,j])\n",
    "                \n",
    "                evacuess_same_shelters[k] += min(ppl_t, ppl_b)/model_t.all_demand\n",
    "                \n",
    "        \n",
    "        \n",
    "        "
   ]
  },
  {
   "cell_type": "code",
   "execution_count": 129,
   "id": "d4430bec-bbf8-4bb2-9b3a-8b8c0faa33b7",
   "metadata": {},
   "outputs": [
    {
     "data": {
      "text/plain": [
       "{0: 0.5111060269609494,\n",
       " 1: 0.43935427732138066,\n",
       " 2: 0.2782017789773624,\n",
       " 3: 0.3873852121595948,\n",
       " 4: 0.4658700625500779,\n",
       " 5: 0.39433521019896806,\n",
       " 6: 0.32994049197886954,\n",
       " 7: 0.36765317017345317,\n",
       " 8: 0.2948580358656957,\n",
       " 9: 0.2887062433302375,\n",
       " 10: 0.5841243702712613,\n",
       " 11: 0.42759085975770716,\n",
       " 12: 0.3412624462613981,\n",
       " 13: 0.3814831301251242,\n",
       " 14: 0.3830330590675442}"
      ]
     },
     "execution_count": 129,
     "metadata": {},
     "output_type": "execute_result"
    }
   ],
   "source": [
    "evacuess_same_shelters"
   ]
  },
  {
   "cell_type": "code",
   "execution_count": 163,
   "id": "701a2c67-1cf3-4537-a906-889c08ef5487",
   "metadata": {},
   "outputs": [
    {
     "data": {
      "image/png": "[encoded data removed]",
      "text/plain": [
       "<Figure size 720x360 with 2 Axes>"
      ]
     },
     "metadata": {
      "needs_background": "light"
     },
     "output_type": "display_data"
    }
   ],
   "source": [
    "fig, axs = plt.subplots(figsize=(10,5), nrows=2, ncols=1, sharex=True)\n",
    "fig.tight_layout()\n",
    "\n",
    "\n",
    "axs[0].bar(x=list(range(1,sec_num)), height = identical_stations.values())\n",
    "axs[0].set_ylabel('Percentage')\n",
    "#axs[0].set_xlabel('Scenarios')\n",
    "axs[0].set_title('Percentage of the Same Located Shelters') \n",
    "axs[0].grid()\n",
    "axs[0].set_xticks(list(range(1,sec_num)))\n",
    "\n",
    "axs[1].bar(x=list(range(1,sec_num)), height = evacuess_same_shelters.values())\n",
    "axs[1].set_ylabel('Percentage')\n",
    "axs[1].set_xlabel('Scenarios')\n",
    "axs[1].set_title('Percentage of the Evacuees Finding Same Sheletrs') \n",
    "axs[1].grid()\n",
    "axs[1].set_xticks(list(range(1,sec_num)))\n",
    "\n",
    "plt.show()"
   ]
  },
  {
   "cell_type": "code",
   "execution_count": null,
   "id": "5361cb3d-fd3d-4e15-af12-4411db5ec564",
   "metadata": {},
   "outputs": [],
   "source": []
  },
  {
   "cell_type": "code",
   "execution_count": null,
   "id": "d19cad7a-18e6-4cab-b994-7be6444079dd",
   "metadata": {},
   "outputs": [],
   "source": []
  }
 ],
 "metadata": {
  "kernelspec": {
   "display_name": "Python 3 (ipykernel)",
   "language": "python",
   "name": "python3"
  },
  "language_info": {
   "codemirror_mode": {
    "name": "ipython",
    "version": 3
   },
   "file_extension": ".py",
   "mimetype": "text/x-python",
   "name": "python",
   "nbconvert_exporter": "python",
   "pygments_lexer": "ipython3",
   "version": "3.7.11"
  }
 },
 "nbformat": 4,
 "nbformat_minor": 5
}
